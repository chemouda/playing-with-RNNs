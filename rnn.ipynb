{
 "cells": [
  {
   "cell_type": "code",
   "execution_count": 1,
   "metadata": {
    "collapsed": true
   },
   "outputs": [],
   "source": [
    "import numpy as np\n",
    "import tensorflow as tf\n",
    "import codecs\n",
    "from os import listdir\n",
    "import nltk\n",
    "from gensim.models import Word2Vec\n",
    "from random import randint"
   ]
  },
  {
   "cell_type": "code",
   "execution_count": 2,
   "metadata": {
    "collapsed": false
   },
   "outputs": [
    {
     "name": "stdout",
     "output_type": "stream",
     "text": [
      "sentiment/train/\n",
      "pos\n",
      "neg\n",
      "sentiment/test/\n",
      "pos\n",
      "neg\n"
     ]
    }
   ],
   "source": [
    "dirrs = ['sentiment/train/', 'sentiment/test/']\n",
    "sent = []\n",
    "for dirr in dirrs:\n",
    "    print dirr\n",
    "    l = listdir(dirr+'pos')\n",
    "    print 'pos'\n",
    "    for r in l:\n",
    "        t = codecs.open(dirr+'pos/'+r,'r',encoding='utf8').read()\n",
    "        sent.append(nltk.word_tokenize(t))\n",
    "    l = listdir(dirr+'neg')\n",
    "    print 'neg'\n",
    "    for r in l:\n",
    "        t = codecs.open(dirr+'neg/'+r,'r',encoding='utf8').read()\n",
    "        sent.append(nltk.word_tokenize(t))"
   ]
  },
  {
   "cell_type": "code",
   "execution_count": 3,
   "metadata": {
    "collapsed": false
   },
   "outputs": [],
   "source": [
    "m = Word2Vec.load('embedding.model')\n",
    "data = []\n",
    "for s in sent:\n",
    "    a = [m[x] for x in s]\n",
    "    data.append(a)\n",
    "data = np.array(data)"
   ]
  },
  {
   "cell_type": "code",
   "execution_count": 4,
   "metadata": {
    "collapsed": false
   },
   "outputs": [
    {
     "data": {
      "text/plain": [
       "((216, 200), (216, 200))"
      ]
     },
     "execution_count": 4,
     "metadata": {},
     "output_type": "execute_result"
    }
   ],
   "source": [
    "def sample(d):\n",
    "    r = randint(0, data.shape[0] - 1)\n",
    "    t = d[r]\n",
    "    x = t[:-1]\n",
    "    y = t[1:]\n",
    "    return np.array(x), np.array(y)\n",
    "\n",
    "s = sample(data)\n",
    "s[0].shape, s[1].shape"
   ]
  },
  {
   "cell_type": "code",
   "execution_count": 5,
   "metadata": {
    "collapsed": true
   },
   "outputs": [],
   "source": [
    "# hyper-parameters\n",
    "epochs = 1000\n",
    "hidden_layer = 150\n",
    "inp_out_size = 200"
   ]
  },
  {
   "cell_type": "code",
   "execution_count": 6,
   "metadata": {
    "collapsed": false
   },
   "outputs": [],
   "source": [
    "'''\n",
    "debugging \n",
    "Wxh = tf.Variable([[1, 2], [3, 4], [5, 6], [7, 8]], dtype=tf.float32)\n",
    "Whh = tf.Variable([[1, 2], [3, 4]], dtype=tf.float32)\n",
    "Why = tf.Variable([[1, 2, 3], [4, 5, 6]], dtype=tf.float32)\n",
    "'''\n",
    "Wxh = tf.Variable(tf.random_uniform([inp_out_size, hidden_layer], maxval=0.01))\n",
    "Whh = tf.Variable(tf.random_uniform([hidden_layer, hidden_layer], maxval=0.01))\n",
    "Why = tf.Variable(tf.random_uniform([hidden_layer, inp_out_size], maxval=0.01))"
   ]
  },
  {
   "cell_type": "code",
   "execution_count": 7,
   "metadata": {
    "collapsed": true
   },
   "outputs": [],
   "source": [
    "def recurrence(prev, inp):\n",
    "    i = tf.reshape(inp, shape=[1, -1])\n",
    "    p = tf.reshape(prev, shape=[1, -1])\n",
    "    h = tf.nn.tanh(tf.squeeze(tf.matmul(i, Wxh)) + tf.squeeze(tf.matmul(p, Whh)))\n",
    "    return h"
   ]
  },
  {
   "cell_type": "code",
   "execution_count": 13,
   "metadata": {
    "collapsed": false
   },
   "outputs": [],
   "source": [
    "a = tf.placeholder(shape=[None, inp_out_size], dtype=tf.float32)\n",
    "b = tf.placeholder(shape=[None, inp_out_size], dtype=tf.float32)\n",
    "# initial = tf.Variable([1, 2], dtype=tf.float32)\n",
    "initial = tf.Variable(tf.zeros([hidden_layer]), dtype=tf.float32)\n",
    "states = tf.scan(recurrence, a, initializer=initial)\n",
    "outputs = tf.matmul(states, Why)\n",
    "# loss = tf.reduce_mean(tf.nn.softmax_cross_entropy_with_logits(outputs, b))\n",
    "loss = tf.sqrt(tf.reduce_mean(tf.square(tf.sub(outputs, b))))\n",
    "trainables = tf.trainable_variables()\n",
    "grads = tf.gradients(loss, trainables)\n",
    "grads, _ = tf.clip_by_global_norm(grads, clip_norm=1.0)\n",
    "grad_var_pairs = zip(grads, trainables)\n",
    "optimizer = tf.train.AdagradOptimizer(0.01)\n",
    "optimize_op = optimizer.apply_gradients(grad_var_pairs)"
   ]
  },
  {
   "cell_type": "code",
   "execution_count": 14,
   "metadata": {
    "collapsed": false
   },
   "outputs": [
    {
     "name": "stdout",
     "output_type": "stream",
     "text": [
      "1000\n",
      "epoch 0, loss = 0.245673522353\n",
      "epoch 100, loss = 0.249224767089\n",
      "epoch 200, loss = 0.242077037692\n",
      "epoch 300, loss = 0.252437114716\n",
      "epoch 400, loss = 0.238389253616\n",
      "epoch 500, loss = 0.221532434225\n",
      "epoch 600, loss = 0.204950749874\n",
      "epoch 700, loss = 0.186352953315\n",
      "epoch 800, loss = 0.171733796597\n",
      "epoch 900, loss = 0.171592190862\n",
      "[[-0.03228022  0.22836776  0.03262889 ...,  0.17153253 -0.10800488\n",
      "   0.15492052]\n",
      " [-0.0006614   0.28806809  0.09034672 ...,  0.2367128  -0.08148592\n",
      "   0.23666677]\n",
      " [-0.00200164  0.36616492  0.11282786 ...,  0.28415704 -0.10679272\n",
      "   0.28591082]\n",
      " ..., \n",
      " [ 0.06174709  0.44018862  0.19079493 ...,  0.36953259 -0.05254084\n",
      "   0.37048614]\n",
      " [ 0.06106238  0.42486948  0.16782928 ...,  0.37233537 -0.07117874\n",
      "   0.38437086]\n",
      " [ 0.04030007  0.4176141   0.17576316 ...,  0.35387737 -0.09177796\n",
      "   0.36566627]]\n"
     ]
    }
   ],
   "source": [
    "print epochs\n",
    "with tf.Session() as sess:\n",
    "    sess.run(tf.initialize_all_variables())\n",
    "    for i in range(epochs):\n",
    "        x, y = sample(data)\n",
    "        l, s, _ = sess.run([loss, states, optimize_op], {a: x, b: y})\n",
    "        if i % 100 == 0:\n",
    "            print 'epoch {0}, loss = {1}'.format(i, l)\n",
    "    \n",
    "    x, y = sample(data)\n",
    "    o, s = sess.run([outputs, states], {a: x, b: y})\n",
    "    print s"
   ]
  },
  {
   "cell_type": "code",
   "execution_count": 20,
   "metadata": {
    "collapsed": false
   },
   "outputs": [
    {
     "data": {
      "text/plain": [
       "(75, 200)"
      ]
     },
     "execution_count": 20,
     "metadata": {},
     "output_type": "execute_result"
    }
   ],
   "source": [
    "np.array(data[0]).shape"
   ]
  },
  {
   "cell_type": "code",
   "execution_count": null,
   "metadata": {
    "collapsed": true
   },
   "outputs": [],
   "source": []
  }
 ],
 "metadata": {
  "kernelspec": {
   "display_name": "Python 2",
   "language": "python",
   "name": "python2"
  },
  "language_info": {
   "codemirror_mode": {
    "name": "ipython",
    "version": 2
   },
   "file_extension": ".py",
   "mimetype": "text/x-python",
   "name": "python",
   "nbconvert_exporter": "python",
   "pygments_lexer": "ipython2",
   "version": "2.7.11+"
  }
 },
 "nbformat": 4,
 "nbformat_minor": 0
}
