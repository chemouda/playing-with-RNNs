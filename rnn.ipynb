{
 "cells": [
  {
   "cell_type": "code",
   "execution_count": 11,
   "metadata": {
    "collapsed": true
   },
   "outputs": [],
   "source": [
    "import numpy as np\n",
    "import tensorflow as tf\n",
    "import codecs\n",
    "from os import listdir\n",
    "import nltk\n",
    "from gensim.models import Word2Vec\n",
    "from random import randint"
   ]
  },
  {
   "cell_type": "code",
   "execution_count": 12,
   "metadata": {
    "collapsed": false
   },
   "outputs": [
    {
     "name": "stdout",
     "output_type": "stream",
     "text": [
      "sentiment/train/\n",
      "pos\n",
      "neg\n",
      "sentiment/test/\n",
      "pos\n",
      "neg\n"
     ]
    }
   ],
   "source": [
    "dirrs = ['sentiment/train/', 'sentiment/test/']\n",
    "sent = []\n",
    "for dirr in dirrs:\n",
    "    print dirr\n",
    "    l = listdir(dirr+'pos')\n",
    "    print 'pos'\n",
    "    for r in l:\n",
    "        t = codecs.open(dirr+'pos/'+r,'r',encoding='utf8').read()\n",
    "        sent.append(nltk.word_tokenize(t))\n",
    "    l = listdir(dirr+'neg')\n",
    "    print 'neg'\n",
    "    for r in l:\n",
    "        t = codecs.open(dirr+'neg/'+r,'r',encoding='utf8').read()\n",
    "        sent.append(nltk.word_tokenize(t))"
   ]
  },
  {
   "cell_type": "code",
   "execution_count": 13,
   "metadata": {
    "collapsed": false
   },
   "outputs": [],
   "source": [
    "m = Word2Vec.load('embedding.model')\n",
    "data = []\n",
    "for s in sent:\n",
    "    a = [m[x] for x in s]\n",
    "    data.append(a)\n",
    "data = np.array(data)"
   ]
  },
  {
   "cell_type": "code",
   "execution_count": 28,
   "metadata": {
    "collapsed": false
   },
   "outputs": [
    {
     "data": {
      "text/plain": [
       "((74, 200), (74, 200))"
      ]
     },
     "execution_count": 28,
     "metadata": {},
     "output_type": "execute_result"
    }
   ],
   "source": [
    "def sample(d):\n",
    "    r = randint(0, data.shape[0] - 1)\n",
    "    t = d[r]\n",
    "    x = t[:-1]\n",
    "    y = t[1:]\n",
    "    return np.array(x), np.array(y)\n",
    "\n",
    "s = sample(data)\n",
    "s[0].shape, s[1].shape"
   ]
  },
  {
   "cell_type": "code",
   "execution_count": 52,
   "metadata": {
    "collapsed": true
   },
   "outputs": [],
   "source": [
    "# hyper-parameters\n",
    "epochs = 3700\n",
    "hidden_layer = 100\n",
    "inp_out_size = 200"
   ]
  },
  {
   "cell_type": "code",
   "execution_count": 47,
   "metadata": {
    "collapsed": false
   },
   "outputs": [],
   "source": [
    "'''\n",
    "debugging \n",
    "Wxh = tf.Variable([[1, 2], [3, 4], [5, 6], [7, 8]], dtype=tf.float32)\n",
    "Whh = tf.Variable([[1, 2], [3, 4]], dtype=tf.float32)\n",
    "Why = tf.Variable([[1, 2, 3], [4, 5, 6]], dtype=tf.float32)\n",
    "'''\n",
    "Wxh = tf.Variable(tf.random_uniform([inp_out_size, hidden_layer], maxval=0.9))\n",
    "Whh = tf.Variable(tf.random_uniform([hidden_layer, hidden_layer], maxval=0.9))\n",
    "Why = tf.Variable(tf.random_uniform([hidden_layer, inp_out_size], maxval=0.9))"
   ]
  },
  {
   "cell_type": "code",
   "execution_count": 48,
   "metadata": {
    "collapsed": true
   },
   "outputs": [],
   "source": [
    "def recurrence(prev, inp):\n",
    "    i = tf.reshape(inp, shape=[1, -1])\n",
    "    p = tf.reshape(prev, shape=[1, -1])\n",
    "    h = tf.squeeze(tf.matmul(i, Wxh)) + tf.squeeze(tf.matmul(p, Whh))\n",
    "    return h"
   ]
  },
  {
   "cell_type": "code",
   "execution_count": 49,
   "metadata": {
    "collapsed": false
   },
   "outputs": [],
   "source": [
    "a = tf.placeholder(shape=[None, inp_out_size], dtype=tf.float32)\n",
    "b = tf.placeholder(shape=[None, inp_out_size], dtype=tf.float32)\n",
    "# initial = tf.Variable([1, 2], dtype=tf.float32)\n",
    "initial = tf.Variable(tf.random_normal([100]), dtype=tf.float32)\n",
    "states = tf.nn.tanh(tf.scan(recurrence, a, initializer=initial))\n",
    "outputs = tf.matmul(states, Why)\n",
    "# loss = tf.reduce_mean(tf.nn.softmax_cross_entropy_with_logits(outputs, b))\n",
    "loss = tf.sqrt(tf.reduce_mean(tf.square(tf.sub(outputs, b))))\n",
    "optimize_op = tf.train.AdagradOptimizer(0.01).minimize(loss)"
   ]
  },
  {
   "cell_type": "code",
   "execution_count": null,
   "metadata": {
    "collapsed": false
   },
   "outputs": [
    {
     "name": "stdout",
     "output_type": "stream",
     "text": [
      "epoch 0, loss = 44.9276161194\n"
     ]
    }
   ],
   "source": [
    "with tf.Session() as sess:\n",
    "    sess.run(tf.initialize_all_variables())\n",
    "    for i in range(epochs):\n",
    "        x, y = sample(data)\n",
    "        l, s, _ = sess.run([loss, states, optimize_op], {a: x, b: y})\n",
    "        if i % 100 == 0:\n",
    "            print 'epoch {0}, loss = {1}'.format(i, l)\n",
    "    \n",
    "    x, y = sample(data)\n",
    "    o = sess.run(outputs, {a: x, b: y})"
   ]
  },
  {
   "cell_type": "code",
   "execution_count": null,
   "metadata": {
    "collapsed": true
   },
   "outputs": [],
   "source": []
  }
 ],
 "metadata": {
  "kernelspec": {
   "display_name": "Python 2",
   "language": "python",
   "name": "python2"
  },
  "language_info": {
   "codemirror_mode": {
    "name": "ipython",
    "version": 2
   },
   "file_extension": ".py",
   "mimetype": "text/x-python",
   "name": "python",
   "nbconvert_exporter": "python",
   "pygments_lexer": "ipython2",
   "version": "2.7.11+"
  }
 },
 "nbformat": 4,
 "nbformat_minor": 0
}
