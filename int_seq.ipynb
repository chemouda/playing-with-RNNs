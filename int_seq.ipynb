{
 "cells": [
  {
   "cell_type": "code",
   "execution_count": 1,
   "metadata": {
    "collapsed": false
   },
   "outputs": [],
   "source": [
    "%matplotlib inline\n",
    "import data\n",
    "import tensorflow as tf\n",
    "import numpy as np\n",
    "import matplotlib.pyplot as plt"
   ]
  },
  {
   "cell_type": "code",
   "execution_count": 2,
   "metadata": {
    "collapsed": false
   },
   "outputs": [],
   "source": [
    "idd, seq = data.readseq('train.csv')"
   ]
  },
  {
   "cell_type": "code",
   "execution_count": 139,
   "metadata": {
    "collapsed": false
   },
   "outputs": [
    {
     "data": {
      "image/png": "[encoded data removed]",
      "text/plain": [
       "<matplotlib.figure.Figure at 0x7f8ce5a91eb8>"
      ]
     },
     "metadata": {},
     "output_type": "display_data"
    }
   ],
   "source": [
    "x = np.arange(1000, 1050, step=0.2)\n",
    "y = np.cos(x)\n",
    "plt.plot(x, y)\n",
    "plt.show()"
   ]
  },
  {
   "cell_type": "code",
   "execution_count": 148,
   "metadata": {
    "collapsed": false
   },
   "outputs": [],
   "source": [
    "def get_batch(s, ix):\n",
    "    t = s[ix]\n",
    "    return t[:-1], t[1:]\n",
    "def sine_data(ix,size=50):\n",
    "    x = np.arange(ix, ix + size, step = 0.2)\n",
    "    y = np.cos(x)\n",
    "    return y[:-1], y[1:]"
   ]
  },
  {
   "cell_type": "code",
   "execution_count": 171,
   "metadata": {
    "collapsed": true
   },
   "outputs": [],
   "source": [
    "inp_out_size = 1\n",
    "hidden_layer_size = 20\n",
    "lr = 0.01\n",
    "epoch = 4000\n",
    "print_step = 200\n",
    "num_steps = 22"
   ]
  },
  {
   "cell_type": "code",
   "execution_count": 172,
   "metadata": {
    "collapsed": true
   },
   "outputs": [],
   "source": [
    "# zoneout as in https://arxiv.org/pdf/1606.01305v1.pdf\n",
    "def zoneout(h, h_prev):\n",
    "    assert h.get_shape() == h_prev.get_shape()\n",
    "    r = tf.select(tf.random_uniform(h.get_shape()) > keep, tf.ones_like(h), tf.zeros_like(h))\n",
    "    h_z = tf.mul(r, h_prev) + tf.mul(tf.sub(tf.ones_like(r), r), h)\n",
    "    return h_z"
   ]
  },
  {
   "cell_type": "code",
   "execution_count": 173,
   "metadata": {
    "collapsed": false
   },
   "outputs": [],
   "source": [
    "tf.reset_default_graph()\n",
    "initializer = tf.random_uniform_initializer(minval=-0.01, maxval=0.01, dtype=tf.float32)\n",
    "Wxh = tf.get_variable('Wxh', shape=[inp_out_size, hidden_layer_size], initializer=initializer)\n",
    "Whh = tf.get_variable('Whh', shape=[hidden_layer_size, hidden_layer_size], initializer=initializer)\n",
    "Why = tf.get_variable('Why',shape=[hidden_layer_size, inp_out_size], initializer=initializer)\n",
    "# weights associated with update gate\n",
    "Wxz = tf.get_variable('Wxz', shape=[inp_out_size, hidden_layer_size], initializer=initializer)\n",
    "Whz = tf.get_variable('Whz', shape=[hidden_layer_size, hidden_layer_size], initializer=initializer)\n",
    "# weights associated with the reset gate\n",
    "Wxr = tf.get_variable('Wxr', shape=[inp_out_size, hidden_layer_size], initializer=initializer)\n",
    "Whr = tf.get_variable('Whr', shape=[hidden_layer_size, hidden_layer_size], initializer=initializer)"
   ]
  },
  {
   "cell_type": "code",
   "execution_count": 188,
   "metadata": {
    "collapsed": true
   },
   "outputs": [],
   "source": [
    "def GRU(prev, inp):\n",
    "    i = tf.reshape(inp, shape=[1, -1])\n",
    "    p = tf.reshape(prev, shape=[1, -1])\n",
    "    z = tf.nn.sigmoid(tf.matmul(i, Wxz) + tf.matmul(p, Whz))    # update gate\n",
    "    r = tf.nn.sigmoid(tf.matmul(i, Wxr) + tf.matmul(p, Whr))    # reset gate\n",
    "    h_ = tf.nn.tanh(tf.matmul(i, Wxh) + tf.matmul(tf.mul(p, r), Whh))\n",
    "    h = tf.mul(tf.sub(tf.ones_like(z), z), h_) + tf.mul(z, p)\n",
    "#     h = zoneout(h, p)\n",
    "    return tf.reshape(h, [hidden_layer_size])"
   ]
  },
  {
   "cell_type": "code",
   "execution_count": 189,
   "metadata": {
    "collapsed": false
   },
   "outputs": [],
   "source": [
    "# model\n",
    "inputs = tf.placeholder(shape=[None, 1], dtype=tf.float32)\n",
    "targets = tf.placeholder(shape=[None, 1], dtype=tf.float32)\n",
    "keep = tf.placeholder(dtype=tf.float32)\n",
    "initial = tf.placeholder(shape=[hidden_layer_size], dtype=tf.float32)\n",
    "hiddens = tf.scan(GRU, inputs, initializer=initial)\n",
    "outputs = tf.matmul(hiddens, Why)\n",
    "loss = tf.sqrt(tf.reduce_sum(tf.square(tf.sub(outputs, targets))))\n",
    "optimizer = tf.train.AdagradOptimizer(lr)\n",
    "grad = optimizer.compute_gradients(loss, [Wxh])[0]\n",
    "optimize_op = optimizer.minimize(loss)"
   ]
  },
  {
   "cell_type": "code",
   "execution_count": 190,
   "metadata": {
    "collapsed": false
   },
   "outputs": [
    {
     "name": "stdout",
     "output_type": "stream",
     "text": [
      "[[-0.00275068  0.00791202 -0.00911282  0.0047061  -0.00104593  0.00812072\n",
      "  -0.00196996  0.00635553  0.00084938 -0.00185088  0.0038519  -0.00723565\n",
      "   0.0056088  -0.00997322  0.00696696  0.00476602 -0.00186067 -0.0098772\n",
      "  -0.00025195  0.00549569]]\n"
     ]
    }
   ],
   "source": [
    "sess = tf.Session()\n",
    "sess.run(tf.initialize_all_variables())\n",
    "print(sess.run(Wxh))"
   ]
  },
  {
   "cell_type": "code",
   "execution_count": 191,
   "metadata": {
    "collapsed": false
   },
   "outputs": [],
   "source": [
    "ix = 0\n",
    "ini = np.zeros([hidden_layer_size])"
   ]
  },
  {
   "cell_type": "code",
   "execution_count": 192,
   "metadata": {
    "collapsed": false
   },
   "outputs": [
    {
     "name": "stdout",
     "output_type": "stream",
     "text": [
      "epoch 0 Loss 7.35051\n",
      "epoch 200 Loss 2.09036\n",
      "epoch 400 Loss 0.28553\n",
      "epoch 600 Loss 0.368904\n",
      "epoch 800 Loss 0.475848\n",
      "epoch 1000 Loss 0.518363\n",
      "epoch 1200 Loss 0.361601\n",
      "epoch 1400 Loss 0.108422\n",
      "epoch 1600 Loss 0.318103\n",
      "epoch 1800 Loss 0.544209\n",
      "epoch 2000 Loss 0.450194\n",
      "epoch 2200 Loss 0.166973\n",
      "epoch 2400 Loss 0.198276\n",
      "epoch 2600 Loss 0.448867\n",
      "epoch 2800 Loss 0.499178\n",
      "epoch 3000 Loss 0.249841\n",
      "epoch 3200 Loss 0.136302\n",
      "epoch 3400 Loss 0.329817\n",
      "epoch 3600 Loss 0.489863\n",
      "epoch 3800 Loss 0.331627\n"
     ]
    }
   ],
   "source": [
    "for i in range(epoch):\n",
    "    a, b = sine_data(ix, size=num_steps)    \n",
    "    a = np.reshape(a, [-1, 1])\n",
    "    b = np.reshape(b, [-1, 1])\n",
    "    feed = {inputs: a, targets: b, initial: ini, keep: 0.7}\n",
    "    l, h, _ = sess.run([loss, hiddens, optimize_op], feed_dict=feed)\n",
    "    ix += 1\n",
    "    if i % print_step == 0:\n",
    "        print('epoch', i, 'Loss', l)\n",
    "    ix += num_steps\n",
    "    ini = h[-1]"
   ]
  },
  {
   "cell_type": "code",
   "execution_count": 193,
   "metadata": {
    "collapsed": false
   },
   "outputs": [],
   "source": [
    "def generate(sess, n):\n",
    "    ix = [[0.2]]\n",
    "    v = []\n",
    "    h = np.zeros(hidden_layer_size)\n",
    "    for i in range(n):\n",
    "        o, h = sess.run([outputs, hiddens], {inputs:ix, initial: h, keep: 1.0})\n",
    "        h = h.reshape(hidden_layer_size)\n",
    "        ix = o\n",
    "        v.append(np.squeeze(o))\n",
    "    return v"
   ]
  },
  {
   "cell_type": "code",
   "execution_count": 194,
   "metadata": {
    "collapsed": false
   },
   "outputs": [
    {
     "name": "stdout",
     "output_type": "stream",
     "text": [
      "0.313400791776\n"
     ]
    },
    {
     "data": {
      "image/png": "[encoded data removed]",
      "text/plain": [
       "<matplotlib.figure.Figure at 0x7f8ce453dc18>"
      ]
     },
     "metadata": {},
     "output_type": "display_data"
    }
   ],
   "source": [
    "x = np.arange(0.2, 50, step = 0.2)\n",
    "pred = np.array(generate(sess, len(x)))\n",
    "true = np.cos(x)\n",
    "test_loss = np.sqrt(np.mean((true - pred) ** 2))\n",
    "print(test_loss)\n",
    "plt.plot(x, pred, 'b-')\n",
    "plt.plot(x, true, 'r-')\n",
    "plt.show()"
   ]
  },
  {
   "cell_type": "code",
   "execution_count": null,
   "metadata": {
    "collapsed": true
   },
   "outputs": [],
   "source": []
  }
 ],
 "metadata": {
  "kernelspec": {
   "display_name": "Python 3",
   "language": "python",
   "name": "python3"
  },
  "language_info": {
   "codemirror_mode": {
    "name": "ipython",
    "version": 3
   },
   "file_extension": ".py",
   "mimetype": "text/x-python",
   "name": "python",
   "nbconvert_exporter": "python",
   "pygments_lexer": "ipython3",
   "version": "3.5.1+"
  }
 },
 "nbformat": 4,
 "nbformat_minor": 0
}
