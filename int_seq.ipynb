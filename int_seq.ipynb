{
 "cells": [
  {
   "cell_type": "code",
   "execution_count": 1,
   "metadata": {
    "collapsed": false
   },
   "outputs": [],
   "source": [
    "%matplotlib inline\n",
    "import data\n",
    "import tensorflow as tf\n",
    "import numpy as np\n",
    "import matplotlib.pyplot as plt"
   ]
  },
  {
   "cell_type": "code",
   "execution_count": 2,
   "metadata": {
    "collapsed": false
   },
   "outputs": [],
   "source": [
    "idd, seq = data.readseq('train.csv')"
   ]
  },
  {
   "cell_type": "code",
   "execution_count": 22,
   "metadata": {
    "collapsed": false
   },
   "outputs": [
    {
     "data": {
      "image/png": "[encoded data removed]",
      "text/plain": [
       "<matplotlib.figure.Figure at 0x7feb6fa6a978>"
      ]
     },
     "metadata": {},
     "output_type": "display_data"
    }
   ],
   "source": [
    "x = np.arange(1000, 1050, step=0.2)\n",
    "y = np.sin(x)\n",
    "plt.plot(x, y)\n",
    "plt.show()"
   ]
  },
  {
   "cell_type": "code",
   "execution_count": 23,
   "metadata": {
    "collapsed": false
   },
   "outputs": [],
   "source": [
    "def get_batch(s, ix):\n",
    "    t = s[ix]\n",
    "    return t[:-1], t[1:]\n",
    "def sine_data(ix,size=50):\n",
    "    x = np.arange(ix, ix + size, step = 0.2)\n",
    "    y = np.sin(x)\n",
    "    return y[:-1], y[1:]"
   ]
  },
  {
   "cell_type": "code",
   "execution_count": 24,
   "metadata": {
    "collapsed": true
   },
   "outputs": [],
   "source": [
    "inp_out_size = 1\n",
    "hidden_layer_size = 5\n",
    "lr = 0.001\n",
    "epoch = 7000\n",
    "print_step = 200\n",
    "num_steps = 15"
   ]
  },
  {
   "cell_type": "code",
   "execution_count": 25,
   "metadata": {
    "collapsed": true
   },
   "outputs": [],
   "source": [
    "# zoneout as in https://arxiv.org/pdf/1606.01305v1.pdf\n",
    "def zoneout(h, h_prev):\n",
    "    assert h.get_shape() == h_prev.get_shape()\n",
    "    r = tf.select(tf.random_uniform(h.get_shape()) > keep, tf.ones_like(h), tf.zeros_like(h))\n",
    "    h_z = tf.mul(r, h_prev) + tf.mul(tf.sub(tf.ones_like(r), r), h)\n",
    "    return h_z"
   ]
  },
  {
   "cell_type": "code",
   "execution_count": 57,
   "metadata": {
    "collapsed": false
   },
   "outputs": [],
   "source": [
    "tf.reset_default_graph()\n",
    "initializer = tf.random_uniform_initializer(minval=-0.01, maxval=0.01, dtype=tf.float32)\n",
    "Wxh = tf.get_variable('Wxh', shape=[inp_out_size, hidden_layer_size], initializer=initializer)\n",
    "Whh = tf.get_variable('Whh', shape=[hidden_layer_size, hidden_layer_size], initializer=initializer)\n",
    "Why = tf.get_variable('Why',shape=[hidden_layer_size, inp_out_size], initializer=initializer)\n",
    "# weights associated with update gate\n",
    "Wxz = tf.get_variable('Wxz', shape=[inp_out_size, hidden_layer_size], initializer=initializer)\n",
    "Whz = tf.get_variable('Whz', shape=[hidden_layer_size, hidden_layer_size], initializer=initializer)\n",
    "# weights associated with the reset gate\n",
    "Wxr = tf.get_variable('Wxr', shape=[inp_out_size, hidden_layer_size], initializer=initializer)\n",
    "Whr = tf.get_variable('Whr', shape=[hidden_layer_size, hidden_layer_size], initializer=initializer)"
   ]
  },
  {
   "cell_type": "code",
   "execution_count": 59,
   "metadata": {
    "collapsed": true
   },
   "outputs": [],
   "source": [
    "def GRU(prev, inp):\n",
    "    i = tf.reshape(inp, shape=[1, -1])\n",
    "    p = tf.reshape(prev, shape=[1, -1])\n",
    "    z = tf.nn.sigmoid(tf.matmul(i, Wxz) + tf.matmul(p, Whz))    # update gate\n",
    "    r = tf.nn.sigmoid(tf.matmul(i, Wxr) + tf.matmul(p, Whr))    # reset gate\n",
    "    h_ = tf.nn.tanh(tf.matmul(i, Wxh) + tf.matmul(tf.mul(p, r), Whh))\n",
    "    h = tf.mul(tf.sub(tf.ones_like(z), z), h_) + tf.mul(z, p)\n",
    "    h = zoneout(h, p)\n",
    "    return tf.reshape(h, [hidden_layer_size])"
   ]
  },
  {
   "cell_type": "code",
   "execution_count": 60,
   "metadata": {
    "collapsed": false
   },
   "outputs": [],
   "source": [
    "# model\n",
    "inputs = tf.placeholder(shape=[None, 1], dtype=tf.float32)\n",
    "targets = tf.placeholder(shape=[None, 1], dtype=tf.float32)\n",
    "keep = tf.placeholder(dtype=tf.float32)\n",
    "initial = tf.placeholder(shape=[hidden_layer_size], dtype=tf.float32)\n",
    "hiddens = tf.scan(GRU, inputs, initializer=initial)\n",
    "outputs = tf.matmul(hiddens, Why)\n",
    "loss = tf.sqrt(tf.reduce_sum(tf.square(tf.sub(outputs, targets))))\n",
    "optimizer = tf.train.GradientDescentOptimizer(lr)\n",
    "optimize_op = optimizer.minimize(loss)"
   ]
  },
  {
   "cell_type": "code",
   "execution_count": 61,
   "metadata": {
    "collapsed": false
   },
   "outputs": [],
   "source": [
    "sess = tf.Session()\n",
    "sess.run(tf.initialize_all_variables())"
   ]
  },
  {
   "cell_type": "code",
   "execution_count": 62,
   "metadata": {
    "collapsed": false
   },
   "outputs": [],
   "source": [
    "ix = 0\n",
    "ini = np.zeros([hidden_layer_size])"
   ]
  },
  {
   "cell_type": "code",
   "execution_count": 63,
   "metadata": {
    "collapsed": false
   },
   "outputs": [
    {
     "name": "stdout",
     "output_type": "stream",
     "text": [
      "Loss 6.20545\n",
      "Loss 5.91637\n",
      "Loss 6.21059\n",
      "Loss 5.88766\n",
      "Loss 5.43061\n",
      "Loss 3.94114\n",
      "Loss 3.15919\n",
      "Loss 3.06633\n",
      "Loss 2.6858\n",
      "Loss 2.58131\n",
      "Loss 2.63796\n",
      "Loss 2.54896\n",
      "Loss 2.40207\n",
      "Loss 2.15102\n",
      "Loss 2.60406\n",
      "Loss 1.92682\n",
      "Loss 1.97965\n",
      "Loss 1.89547\n",
      "Loss 1.4631\n",
      "Loss 1.16086\n",
      "Loss 0.908506\n",
      "Loss 0.826549\n",
      "Loss 0.66401\n",
      "Loss 0.742195\n",
      "Loss 0.893758\n",
      "Loss 0.624306\n",
      "Loss 0.650081\n",
      "Loss 0.639659\n",
      "Loss 0.871191\n",
      "Loss 1.07262\n",
      "Loss 0.763835\n",
      "Loss 0.575472\n",
      "Loss 0.478095\n",
      "Loss 0.609758\n",
      "Loss 0.541901\n"
     ]
    }
   ],
   "source": [
    "for i in range(epoch):\n",
    "    a, b = sine_data(ix, size=num_steps)    \n",
    "    a = np.reshape(a, [-1, 1])\n",
    "    b = np.reshape(b, [-1, 1])\n",
    "    l, h, _ = sess.run([loss, hiddens, optimize_op], {inputs: a, targets: b, initial: ini, keep: 0.7})\n",
    "    ix += 1\n",
    "    if i % print_step == 0:\n",
    "        print('Loss', l)\n",
    "    ix += num_steps\n",
    "    ini = h[-1]"
   ]
  },
  {
   "cell_type": "code",
   "execution_count": 64,
   "metadata": {
    "collapsed": false
   },
   "outputs": [],
   "source": [
    "def generate(sess, n):\n",
    "    ix = [[0.2]]\n",
    "    v = []\n",
    "    h = np.zeros(hidden_layer_size)\n",
    "    for i in range(n):\n",
    "        o, h = sess.run([outputs, hiddens], {inputs:ix, initial: h, keep: 1.0})\n",
    "        h = h.reshape(hidden_layer_size)\n",
    "        ix = o\n",
    "        v.append(np.squeeze(o))\n",
    "    return v"
   ]
  },
  {
   "cell_type": "code",
   "execution_count": 65,
   "metadata": {
    "collapsed": false
   },
   "outputs": [
    {
     "name": "stdout",
     "output_type": "stream",
     "text": [
      "(224,) (250,)\n"
     ]
    },
    {
     "data": {
      "image/png": "[encoded data removed]",
      "text/plain": [
       "<matplotlib.figure.Figure at 0x7feb6ab10ac8>"
      ]
     },
     "metadata": {},
     "output_type": "display_data"
    }
   ],
   "source": [
    "x = np.arange(0.2, 45, step = 0.2)\n",
    "pred = np.array(generate(sess, len(x)))\n",
    "true = np.sin(x)\n",
    "print(x.shape, y.shape)\n",
    "plt.plot(x, pred, 'b-')\n",
    "plt.plot(x, true, 'r-')\n",
    "plt.show()"
   ]
  },
  {
   "cell_type": "code",
   "execution_count": null,
   "metadata": {
    "collapsed": true
   },
   "outputs": [],
   "source": []
  }
 ],
 "metadata": {
  "kernelspec": {
   "display_name": "Python 3",
   "language": "python",
   "name": "python3"
  },
  "language_info": {
   "codemirror_mode": {
    "name": "ipython",
    "version": 3
   },
   "file_extension": ".py",
   "mimetype": "text/x-python",
   "name": "python",
   "nbconvert_exporter": "python",
   "pygments_lexer": "ipython3",
   "version": "3.5.1+"
  }
 },
 "nbformat": 4,
 "nbformat_minor": 0
}
