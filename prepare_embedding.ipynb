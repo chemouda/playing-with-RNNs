{
 "cells": [
  {
   "cell_type": "code",
   "execution_count": 1,
   "metadata": {
    "collapsed": true
   },
   "outputs": [],
   "source": [
    "from gensim.models import Word2Vec\n",
    "import numpy as np\n",
    "from os import listdir\n",
    "import nltk\n",
    "import codecs"
   ]
  },
  {
   "cell_type": "code",
   "execution_count": 2,
   "metadata": {
    "collapsed": false
   },
   "outputs": [
    {
     "name": "stdout",
     "output_type": "stream",
     "text": [
      "50000\n"
     ]
    }
   ],
   "source": [
    "dirrs = ['sentiment/train/', 'sentiment/test/']\n",
    "sent = []\n",
    "for dirr in dirrs:\n",
    "    l = listdir(dirr+'pos')    \n",
    "    for r in l:\n",
    "        t = codecs.open(dirr+'pos/'+r,'r',encoding='utf8').read()\n",
    "        sent.append(nltk.word_tokenize(t))\n",
    "    l = listdir(dirr+'neg')\n",
    "    for r in l:\n",
    "        t = codecs.open(dirr+'neg/'+r,'r',encoding='utf8').read()\n",
    "        sent.append(nltk.word_tokenize(t))\n",
    "\n",
    "print(len(sent))"
   ]
  },
  {
   "cell_type": "code",
   "execution_count": 3,
   "metadata": {
    "collapsed": false
   },
   "outputs": [],
   "source": [
    "import multiprocessing\n",
    "cores = multiprocessing.cpu_count()\n",
    "model = Word2Vec(sent, min_count=1, size=200, sg=1, iter=2, negative=10, workers=cores)"
   ]
  },
  {
   "cell_type": "code",
   "execution_count": 4,
   "metadata": {
    "collapsed": false
   },
   "outputs": [
    {
     "data": {
      "text/plain": [
       "[(u'decent', 0.8400173187255859),\n",
       " (u'great', 0.8278058767318726),\n",
       " (u'serviceable', 0.7882770299911499),\n",
       " (u'feelgood', 0.7851405143737793),\n",
       " (u'swell', 0.7842329740524292),\n",
       " (u'throwaway', 0.7828596830368042),\n",
       " (u'good.', 0.7824593782424927),\n",
       " (u'slim', 0.781356155872345),\n",
       " (u'darn', 0.7809689044952393),\n",
       " (u'half-decent', 0.7800222635269165)]"
      ]
     },
     "execution_count": 4,
     "metadata": {},
     "output_type": "execute_result"
    }
   ],
   "source": [
    "model.most_similar('good')"
   ]
  },
  {
   "cell_type": "code",
   "execution_count": 5,
   "metadata": {
    "collapsed": false
   },
   "outputs": [],
   "source": [
    "model.save('embedding.model')"
   ]
  },
  {
   "cell_type": "code",
   "execution_count": null,
   "metadata": {
    "collapsed": true
   },
   "outputs": [],
   "source": []
  }
 ],
 "metadata": {
  "kernelspec": {
   "display_name": "Python 2",
   "language": "python",
   "name": "python2"
  },
  "language_info": {
   "codemirror_mode": {
    "name": "ipython",
    "version": 2
   },
   "file_extension": ".py",
   "mimetype": "text/x-python",
   "name": "python",
   "nbconvert_exporter": "python",
   "pygments_lexer": "ipython2",
   "version": "2.7.11+"
  }
 },
 "nbformat": 4,
 "nbformat_minor": 0
}
