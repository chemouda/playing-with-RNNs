{
 "cells": [
  {
   "cell_type": "code",
   "execution_count": 1,
   "metadata": {
    "collapsed": false
   },
   "outputs": [],
   "source": [
    "import numpy as np\n",
    "import tensorflow as tf\n",
    "import math\n",
    "import random\n",
    "from os import listdir\n",
    "import codecs\n",
    "import nltk\n",
    "import data\n",
    "from gensim.models import Word2Vec"
   ]
  },
  {
   "cell_type": "code",
   "execution_count": 2,
   "metadata": {
    "collapsed": false
   },
   "outputs": [
    {
     "name": "stdout",
     "output_type": "stream",
     "text": [
      "1659\n"
     ]
    }
   ],
   "source": [
    "vocab_size = 324\n",
    "d, id_to_token = data.get_data(vocab_size)\n",
    "for k in id_to_token:\n",
    "    if id_to_token[k] == 'eos':\n",
    "        id_to_token[k] = '\\n'"
   ]
  },
  {
   "cell_type": "code",
   "execution_count": 3,
   "metadata": {
    "collapsed": false
   },
   "outputs": [],
   "source": [
    "x, y = data.sample(d, 5)"
   ]
  },
  {
   "cell_type": "code",
   "execution_count": 4,
   "metadata": {
    "collapsed": true
   },
   "outputs": [],
   "source": [
    "hidden_size = 100\n",
    "num_steps = 10\n",
    "learning_rate = 0.01\n",
    "num_runs_between_logging = 3000\n",
    "epoch = 6000"
   ]
  },
  {
   "cell_type": "code",
   "execution_count": 5,
   "metadata": {
    "collapsed": true
   },
   "outputs": [],
   "source": [
    "Wxh = tf.Variable(tf.random_uniform([vocab_size, hidden_size])) \n",
    "Whh = tf.Variable(tf.random_uniform([hidden_size, hidden_size]))\n",
    "bh = tf.Variable(tf.zeros([hidden_size]))\n",
    "Why = tf.Variable(tf.random_uniform([hidden_size, vocab_size])) \n",
    "by = tf.Variable(tf.zeros([vocab_size]))\n",
    "U_z = tf.Variable(tf.random_uniform([vocab_size, hidden_size]))\n",
    "W_z = tf.Variable(tf.random_uniform([hidden_size, hidden_size]))\n",
    "U_r = tf.Variable(tf.random_uniform([vocab_size, hidden_size]))\n",
    "W_r = tf.Variable(tf.random_uniform([hidden_size, hidden_size]))"
   ]
  },
  {
   "cell_type": "code",
   "execution_count": 10,
   "metadata": {
    "collapsed": false
   },
   "outputs": [
    {
     "ename": "ValueError",
     "evalue": "Cannot infer num from shape (?, 324)",
     "output_type": "error",
     "traceback": [
      "\u001b[1;31m---------------------------------------------------------------------------\u001b[0m",
      "\u001b[1;31mValueError\u001b[0m                                Traceback (most recent call last)",
      "\u001b[1;32m<ipython-input-10-fef5131547fb>\u001b[0m in \u001b[0;36m<module>\u001b[1;34m()\u001b[0m\n\u001b[0;32m      1\u001b[0m \u001b[0mdd\u001b[0m \u001b[1;33m=\u001b[0m \u001b[0mtf\u001b[0m\u001b[1;33m.\u001b[0m\u001b[0mplaceholder\u001b[0m\u001b[1;33m(\u001b[0m\u001b[0mshape\u001b[0m\u001b[1;33m=\u001b[0m\u001b[1;33m[\u001b[0m\u001b[0mNone\u001b[0m\u001b[1;33m,\u001b[0m \u001b[0mvocab_size\u001b[0m\u001b[1;33m]\u001b[0m\u001b[1;33m,\u001b[0m \u001b[0mdtype\u001b[0m\u001b[1;33m=\u001b[0m\u001b[0mtf\u001b[0m\u001b[1;33m.\u001b[0m\u001b[0mfloat32\u001b[0m\u001b[1;33m)\u001b[0m\u001b[1;33m\u001b[0m\u001b[0m\n\u001b[1;32m----> 2\u001b[1;33m \u001b[0mtemp\u001b[0m \u001b[1;33m=\u001b[0m \u001b[0mtf\u001b[0m\u001b[1;33m.\u001b[0m\u001b[0munpack\u001b[0m\u001b[1;33m(\u001b[0m\u001b[0mdd\u001b[0m\u001b[1;33m)\u001b[0m\u001b[1;33m\u001b[0m\u001b[0m\n\u001b[0m\u001b[0;32m      3\u001b[0m \u001b[0minputs\u001b[0m \u001b[1;33m=\u001b[0m \u001b[0mtf\u001b[0m\u001b[1;33m.\u001b[0m\u001b[0msplit\u001b[0m\u001b[1;33m(\u001b[0m\u001b[1;36m0\u001b[0m\u001b[1;33m,\u001b[0m \u001b[0mnum_steps\u001b[0m\u001b[1;33m,\u001b[0m \u001b[0mdd\u001b[0m\u001b[1;33m)\u001b[0m\u001b[1;33m\u001b[0m\u001b[0m\n\u001b[0;32m      4\u001b[0m \u001b[1;31m# inputs = [tf.placeholder(tf.float32, [1, vocab_size]) for _ in xrange(num_steps)]\u001b[0m\u001b[1;33m\u001b[0m\u001b[1;33m\u001b[0m\u001b[0m\n\u001b[0;32m      5\u001b[0m \u001b[0mkeep_prob\u001b[0m \u001b[1;33m=\u001b[0m \u001b[0mtf\u001b[0m\u001b[1;33m.\u001b[0m\u001b[0mplaceholder\u001b[0m\u001b[1;33m(\u001b[0m\u001b[0mtf\u001b[0m\u001b[1;33m.\u001b[0m\u001b[0mfloat32\u001b[0m\u001b[1;33m)\u001b[0m\u001b[1;33m\u001b[0m\u001b[0m\n",
      "\u001b[1;32m/usr/local/lib/python2.7/dist-packages/tensorflow/python/ops/array_ops.pyc\u001b[0m in \u001b[0;36munpack\u001b[1;34m(value, num, name)\u001b[0m\n\u001b[0;32m    273\u001b[0m     \u001b[0mnum\u001b[0m \u001b[1;33m=\u001b[0m \u001b[0mshape\u001b[0m\u001b[1;33m[\u001b[0m\u001b[1;36m0\u001b[0m\u001b[1;33m]\u001b[0m\u001b[1;33m.\u001b[0m\u001b[0mvalue\u001b[0m\u001b[1;33m\u001b[0m\u001b[0m\n\u001b[0;32m    274\u001b[0m     \u001b[1;32mif\u001b[0m \u001b[0mnum\u001b[0m \u001b[1;32mis\u001b[0m \u001b[0mNone\u001b[0m\u001b[1;33m:\u001b[0m\u001b[1;33m\u001b[0m\u001b[0m\n\u001b[1;32m--> 275\u001b[1;33m       \u001b[1;32mraise\u001b[0m \u001b[0mValueError\u001b[0m\u001b[1;33m(\u001b[0m\u001b[1;34m\"Cannot infer num from shape %s\"\u001b[0m \u001b[1;33m%\u001b[0m \u001b[0mshape\u001b[0m\u001b[1;33m)\u001b[0m\u001b[1;33m\u001b[0m\u001b[0m\n\u001b[0m\u001b[0;32m    276\u001b[0m   \u001b[1;32mreturn\u001b[0m \u001b[0mgen_array_ops\u001b[0m\u001b[1;33m.\u001b[0m\u001b[0m_unpack\u001b[0m\u001b[1;33m(\u001b[0m\u001b[0mvalue\u001b[0m\u001b[1;33m,\u001b[0m \u001b[0mnum\u001b[0m\u001b[1;33m=\u001b[0m\u001b[0mnum\u001b[0m\u001b[1;33m,\u001b[0m \u001b[0mname\u001b[0m\u001b[1;33m=\u001b[0m\u001b[0mname\u001b[0m\u001b[1;33m)\u001b[0m\u001b[1;33m\u001b[0m\u001b[0m\n\u001b[0;32m    277\u001b[0m \u001b[1;33m\u001b[0m\u001b[0m\n",
      "\u001b[1;31mValueError\u001b[0m: Cannot infer num from shape (?, 324)"
     ]
    }
   ],
   "source": [
    "dd = tf.placeholder(shape=[None, vocab_size], dtype=tf.float32)\n",
    "inputs = tf.split(0, num_steps, dd)\n",
    "# inputs = [tf.placeholder(tf.float32, [1, vocab_size]) for _ in xrange(num_steps)]\n",
    "keep_prob = tf.placeholder(tf.float32)\n",
    "outputs = {}\n",
    "hs = {}\n",
    "hs[-1] = tf.placeholder(tf.float32, [1, hidden_size])\n",
    "# GRU UNIT\n",
    "for i in range(len(inputs)):\n",
    "    r = tf.nn.softmax(tf.matmul(inputs[i], U_r) + tf.matmul(hs[i-1], W_r))\n",
    "    z = tf.nn.softmax(tf.matmul(inputs[i], U_z) + tf.matmul(hs[i-1], W_z))\n",
    "    h = tf.nn.tanh(tf.matmul(inputs[i], Wxh) + tf.matmul(hs[i - 1] * r, Whh))\n",
    "    hs[i] = tf.mul(tf.sub(tf.ones_like(z), z), h) + tf.mul(z , hs[i - 1])\n",
    "#     hs[i]      = tf.nn.tanh(tf.matmul(inputs[i], Wxh) + tf.matmul(hs[i-1], Whh) + bh)\n",
    "    hs_drop = tf.nn.dropout(hs[i], keep_prob)\n",
    "    outputs[i] = tf.nn.softmax(tf.matmul(hs_drop, Why) + by)\n",
    "\n",
    "tt = tf.placeholder(shape=[None, vocab_size], dtype=tf.float32)\n",
    "truths = tf.split(0, num_steps, tt)\n",
    "# truths = [tf.placeholder(tf.float32, [1, vocab_size]) for i in xrange(num_steps)]\n",
    "cross_entropies = [-tf.reduce_sum(truths[i]*tf.log(outputs[i])) for i in xrange(num_steps)]  # These operations act element-wise.\n",
    "cross_entropy = tf.add_n(cross_entropies)\n",
    "train_step = tf.train.AdagradOptimizer(learning_rate).minimize(cross_entropy)"
   ]
  },
  {
   "cell_type": "code",
   "execution_count": 7,
   "metadata": {
    "collapsed": true
   },
   "outputs": [],
   "source": [
    "init = tf.initialize_all_variables()\n",
    "sess = tf.Session()\n",
    "sess.run(init)"
   ]
  },
  {
   "cell_type": "code",
   "execution_count": 8,
   "metadata": {
    "collapsed": false
   },
   "outputs": [],
   "source": [
    "def hallucinate(sess, seed_ix, num_chars):\n",
    "    ix = seed_ix\n",
    "    ixes = [ix]\n",
    "    hallucination_h_state = np.zeros([1, hidden_size]) \n",
    "    for i in range(num_chars):\n",
    "        x_in = [[0] * vocab_size]\n",
    "        x_in[0][ix] = 1\n",
    "\n",
    "        feed_dict={inputs[0]: x_in}\n",
    "        feed_dict.update({hs[-1]:hallucination_h_state})\n",
    "        feed_dict.update({keep_prob: 1.0})\n",
    "\n",
    "        output, hallucination_h_state = sess.run((outputs[0],hs[0]), feed_dict=feed_dict)\n",
    "        probs = output[0]\n",
    "        ix = np.random.choice(range(len(probs)), p=probs)\n",
    "        ixes.append(ix)\n",
    "    hallucination=' '.join([id_to_token[ix] for ix in ixes])\n",
    "    print hallucination"
   ]
  },
  {
   "cell_type": "code",
   "execution_count": 9,
   "metadata": {
    "collapsed": true
   },
   "outputs": [],
   "source": [
    "losses = []\n",
    "iterations = 0\n",
    "ix = 0\n",
    "h_state = np.zeros([1, hidden_size])\n",
    "smooth_loss = -np.log(1.0/vocab_size)*num_steps # loss at iteration 0"
   ]
  },
  {
   "cell_type": "code",
   "execution_count": 14,
   "metadata": {
    "collapsed": false
   },
   "outputs": [
    {
     "name": "stdout",
     "output_type": "stream",
     "text": [
      "========== Iteration  3000  Loss:  37.1425059609  ==============\n",
      "========== Iteration  6000  Loss:  25.8454689933  ==============\n"
     ]
    }
   ],
   "source": [
    "def RunModel():\n",
    "    global ix,losses,iterations,h_state,smooth_loss\n",
    "    run = 0\n",
    "    while True:\n",
    "        letters=[]\n",
    "        if run > epoch:\n",
    "            break\n",
    "        x, y = data.sample(d, num_steps)\n",
    "#         feed_dict={inputs[i]: x[i].reshape(1, -1) for i in range(num_steps)}\n",
    "        feed_dict = {dd: x}\n",
    "#         feed_dict.update({truths[i]: y[i].reshape(1, -1) for i in range(num_steps)})\n",
    "        feed_dict.update({tt : y})\n",
    "        feed_dict.update({hs[-1]:h_state})\n",
    "        feed_dict.update({keep_prob: 0.8})\n",
    "\n",
    "        _, h_state, loss_out = sess.run((train_step, hs[num_steps-1], cross_entropy), feed_dict=feed_dict)\n",
    "        smooth_loss = smooth_loss * 0.999 + loss_out * 0.001\n",
    "        ix += num_steps\n",
    "        #        letters.append(data[ix])\n",
    "        run += 1\n",
    "        if run % num_runs_between_logging == 0:   \n",
    "            iterations += 1\n",
    "            #        print \"train: \", ''.join(letters)\n",
    "            print \"========== Iteration \", run, \" Loss: \", smooth_loss, \" ==============\"\n",
    "            losses.append(smooth_loss)\n",
    "#             hallucinate(sess, random.randint(0,vocab_size-1), 60)\n",
    "RunModel()"
   ]
  },
  {
   "cell_type": "code",
   "execution_count": 101,
   "metadata": {
    "collapsed": false
   },
   "outputs": [
    {
     "name": "stdout",
     "output_type": "stream",
     "text": [
      "sky . \n",
      " And the autumn breezes sing . \n",
      " \n",
      " And the bee-hive casts its swarm ; \n",
      " Slipt its golden clasp , \n",
      " With a waist and every place ? \n",
      " Let , when her zone \n",
      " Like three fit wines in pelteth . \n",
      " Pearled with the cheek that doth not weary ? Where 's the eye , high-commission 'd : \n",
      " White as does its blossoming ; \n",
      " Cast on sunny bank its celled sleep ; \n",
      " When the bee-hive casts its skin ; \n",
      " Acorns ripe down-pattering , \n",
      " Or the early April lark , \n",
      " While the soundless earth hath lost ; \n",
      " Sit thee there , and cloudward soar . \n",
      " Distant harvest-carols clear ; \n",
      " White-plum 'd lillies , and dew , \n",
      " Beauties that the earth hath lost ; \n",
      " She will bring thee , when rain pelteth . \n",
      " The daisy\n"
     ]
    }
   ],
   "source": [
    "hallucinate(sess, random.randint(0,vocab_size-1), 150)"
   ]
  },
  {
   "cell_type": "code",
   "execution_count": 17,
   "metadata": {
    "collapsed": false
   },
   "outputs": [
    {
     "name": "stdout",
     "output_type": "stream",
     "text": [
      "buds and the leaf , and alarm \n",
      " Hatching buds and the reaped April lark , \n",
      " Pleasure melteth , winged Fancy 's the ploughboy 's the Night doth meet the first \n",
      " While the face \n",
      " One would hear so very oft ? \n",
      " When the mesh \n",
      " Fades as how Fancy thy mind in the mist and dew , winged Fancy roam , \n",
      " At a caw ' daughter , \n",
      " Sit thee the field-mouse peep ; \n",
      " Shaded hyacinth , in every flower \n",
      " Like to its skin ; \n",
      " Let the winged Fancy ! \n",
      " All the golden dart forth , and with the ingle , \n",
      " Meagre from her : \n",
      " She will bring , \n",
      " All the ploughboy 's wing doth meet the reaped corn ; \n",
      " When the Night doth not weary ? Where 's the soundless earth hath burst ; \n",
      " flower night\n"
     ]
    }
   ],
   "source": [
    "hallucinate(sess, random.randint(0,vocab_size-1), 150)"
   ]
  },
  {
   "cell_type": "code",
   "execution_count": null,
   "metadata": {
    "collapsed": true
   },
   "outputs": [],
   "source": []
  }
 ],
 "metadata": {
  "kernelspec": {
   "display_name": "Python 2",
   "language": "python",
   "name": "python2"
  },
  "language_info": {
   "codemirror_mode": {
    "name": "ipython",
    "version": 2
   },
   "file_extension": ".py",
   "mimetype": "text/x-python",
   "name": "python",
   "nbconvert_exporter": "python",
   "pygments_lexer": "ipython2",
   "version": "2.7.11+"
  }
 },
 "nbformat": 4,
 "nbformat_minor": 0
}
