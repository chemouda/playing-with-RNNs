{
 "cells": [
  {
   "cell_type": "code",
   "execution_count": 21,
   "metadata": {
    "collapsed": false
   },
   "outputs": [],
   "source": [
    "import numpy as np\n",
    "import tensorflow as tf\n",
    "import math\n",
    "import random\n",
    "from os import listdir\n",
    "import codecs\n",
    "import nltk\n",
    "import data\n",
    "from gensim.models import Word2Vec"
   ]
  },
  {
   "cell_type": "code",
   "execution_count": 22,
   "metadata": {
    "collapsed": false
   },
   "outputs": [
    {
     "name": "stdout",
     "output_type": "stream",
     "text": [
      "324\n"
     ]
    }
   ],
   "source": [
    "vocab_size = 324\n",
    "d, id_to_token = data.get_data(vocab_size)\n",
    "for k in id_to_token:\n",
    "    if id_to_token[k] == 'eos':\n",
    "        id_to_token[k] = '\\n'"
   ]
  },
  {
   "cell_type": "code",
   "execution_count": 23,
   "metadata": {
    "collapsed": false
   },
   "outputs": [],
   "source": [
    "x, y = data.sample(d, 5)"
   ]
  },
  {
   "cell_type": "code",
   "execution_count": 38,
   "metadata": {
    "collapsed": true
   },
   "outputs": [],
   "source": [
    "hidden_size = 100\n",
    "num_steps = 10\n",
    "learning_rate = 0.01\n",
    "num_runs_between_logging = 3000\n",
    "epoch = 50000"
   ]
  },
  {
   "cell_type": "code",
   "execution_count": 25,
   "metadata": {
    "collapsed": true
   },
   "outputs": [],
   "source": [
    "Wxh = tf.Variable(tf.random_uniform([vocab_size, hidden_size])) \n",
    "Whh = tf.Variable(tf.random_uniform([hidden_size, hidden_size]))\n",
    "bh = tf.Variable(tf.zeros([hidden_size]))\n",
    "Why = tf.Variable(tf.random_uniform([hidden_size, vocab_size])) \n",
    "by = tf.Variable(tf.zeros([vocab_size]))\n",
    "U_z = tf.Variable(tf.random_uniform([vocab_size, hidden_size]))\n",
    "W_z = tf.Variable(tf.random_uniform([hidden_size, hidden_size]))\n",
    "U_r = tf.Variable(tf.random_uniform([vocab_size, hidden_size]))\n",
    "W_r = tf.Variable(tf.random_uniform([hidden_size, hidden_size]))"
   ]
  },
  {
   "cell_type": "code",
   "execution_count": 26,
   "metadata": {
    "collapsed": false
   },
   "outputs": [
    {
     "name": "stdout",
     "output_type": "stream",
     "text": [
      "Tensor(\"Placeholder_22:0\", shape=(1, 324), dtype=float32) Tensor(\"Placeholder_23:0\", shape=(1, 324), dtype=float32) Tensor(\"Placeholder_33:0\", shape=(1, 100), dtype=float32) Tensor(\"add_53:0\", shape=(1, 100), dtype=float32)\n"
     ]
    }
   ],
   "source": [
    "inputs = [tf.placeholder(tf.float32, [1, vocab_size]) for _ in xrange(num_steps)]\n",
    "keep_prob = tf.placeholder(tf.float32)\n",
    "outputs = {}\n",
    "hs = {}\n",
    "hs[-1] = tf.placeholder(tf.float32, [1, hidden_size])\n",
    "# GRU UNIT\n",
    "for i in range(len(inputs)):\n",
    "    r = tf.nn.softmax(tf.matmul(inputs[i], U_r) + tf.matmul(hs[i-1], W_r))\n",
    "    z = tf.nn.softmax(tf.matmul(inputs[i], U_z) + tf.matmul(hs[i-1], W_z))\n",
    "    h = tf.nn.tanh(tf.matmul(inputs[i], Wxh) + tf.matmul(hs[i - 1] * r, Whh))\n",
    "    hs[i] = tf.mul(tf.sub(tf.ones_like(z), z), h) + tf.mul(z , hs[i - 1])\n",
    "#     hs[i]      = tf.nn.tanh(tf.matmul(inputs[i], Wxh) + tf.matmul(hs[i-1], Whh) + bh)\n",
    "    hs_drop = tf.nn.dropout(hs[i], keep_prob)\n",
    "    outputs[i] = tf.nn.softmax(tf.matmul(hs_drop, Why) + by)\n",
    "print inputs[0], inputs[1], hs[-1], hs[0]"
   ]
  },
  {
   "cell_type": "code",
   "execution_count": 27,
   "metadata": {
    "collapsed": false
   },
   "outputs": [],
   "source": [
    "truths = [tf.placeholder(tf.float32, [None, vocab_size]) for i in xrange(num_steps)]\n",
    "cross_entropies = [-tf.reduce_sum(truths[i]*tf.log(outputs[i])) for i in xrange(num_steps)]  # These operations act element-wise.\n",
    "cross_entropy = tf.add_n(cross_entropies)"
   ]
  },
  {
   "cell_type": "code",
   "execution_count": 28,
   "metadata": {
    "collapsed": false
   },
   "outputs": [],
   "source": [
    "train_step = tf.train.AdagradOptimizer(learning_rate).minimize(cross_entropy)"
   ]
  },
  {
   "cell_type": "code",
   "execution_count": 29,
   "metadata": {
    "collapsed": true
   },
   "outputs": [],
   "source": [
    "init = tf.initialize_all_variables()\n",
    "sess = tf.Session()\n",
    "sess.run(init)"
   ]
  },
  {
   "cell_type": "code",
   "execution_count": 32,
   "metadata": {
    "collapsed": false
   },
   "outputs": [],
   "source": [
    "def hallucinate(sess, seed_ix, num_chars):\n",
    "    ix = seed_ix\n",
    "    ixes = [ix]\n",
    "    hallucination_h_state = np.zeros([1, hidden_size]) \n",
    "    for i in range(num_chars):\n",
    "        # Create a random starting letter \n",
    "        x_in = [[0] * vocab_size]\n",
    "        x_in[0][ix] = 1\n",
    "#         make_hot_vec([1,vocab_size], ix)\n",
    "\n",
    "        feed_dict={inputs[0]: x_in}\n",
    "        feed_dict.update({hs[-1]:hallucination_h_state})\n",
    "        feed_dict.update({keep_prob: 1.0})\n",
    "\n",
    "        output, hallucination_h_state = sess.run((outputs[0],hs[0]), feed_dict=feed_dict)\n",
    "        probs = output[0]\n",
    "        ix = np.random.choice(range(len(probs)), p=probs)\n",
    "        ixes.append(ix)\n",
    "    hallucination=' '.join([id_to_token[ix] for ix in ixes])\n",
    "    print hallucination"
   ]
  },
  {
   "cell_type": "code",
   "execution_count": 36,
   "metadata": {
    "collapsed": true
   },
   "outputs": [],
   "source": [
    "losses = []\n",
    "iterations = 0\n",
    "ix = 0\n",
    "h_state = np.zeros([1, hidden_size])\n",
    "smooth_loss = -np.log(1.0/vocab_size)*num_steps # loss at iteration 0"
   ]
  },
  {
   "cell_type": "code",
   "execution_count": 94,
   "metadata": {
    "collapsed": false
   },
   "outputs": [
    {
     "name": "stdout",
     "output_type": "stream",
     "text": [
      "========== Iteration  3000  Loss:  10.6051570016  ==============\n",
      "tasting : \n",
      " Acorns ripe down-pattering , \n",
      " Blushing through the mesh \n",
      " Thou shalt see —send her ! \n",
      " Pleasure never is muffled , \n",
      " One would hear so very oft ? \n",
      " Where 's the rooks , \n",
      " And such joys as Hebe 's the early April lark , and send abroad , \n",
      " From the mist and dew\n",
      "========== Iteration  6000  Loss:  10.3353415531  ==============\n",
      "With a touch sweet Pleasure melteth \n",
      " Through the Noon \n",
      " And Jove grew languid.—Break the hawthorn-tree , \n",
      " And thou shalt quaff it : What do then ? \n",
      " behold \n",
      " Distant harvest-carols clear ; \n",
      " Thee a how to chide ; \n",
      " From the mid-May ; \n",
      " She will mix these pleasures up \n",
      " Shaded hyacinth , however soft\n",
      "========== Iteration  9000  Loss:  10.4647220807  ==============\n",
      "frown and self-overaw 'd lillies , and send abroad , \n",
      " And such joys as does its skin ; \n",
      " Sweet birds antheming the morn : \n",
      " Hedge-grown primrose that hath burst ; \n",
      " 'T is the early April lark , \n",
      " While the buds and bells of May , and alarm \n",
      " Oh , \n",
      " And the unk all winter-thin\n",
      "========== Iteration  12000  Loss:  10.4813502959  ==============\n",
      "find \n",
      " She has vassals to attend her loose ; \n",
      " Acorns ripe down-pattering , \n",
      " Ere the buds and alarm \n",
      " All the maid \n",
      " And the caked snow is shuffled \n",
      " And the heaped Autumn 's wealth , \n",
      " Distant harvest-carols clear ; \n",
      " mesh \n",
      " Whose lip mature is shuffled \n",
      " From the ploughboy 's silken leash ;\n",
      "========== Iteration  15000  Loss:  10.1557992212  ==============\n",
      "summer weather ; \n",
      " \n",
      " And every flower \n",
      " Sit thee , sweet Fancy ! let , however soft , \n",
      " Ere the winged Fancy roam , \n",
      " Meagre from its skin ; \n",
      " Shaded hyacinth , winged Fancy wander \n",
      " Autumn 's red-lipp 'd fruitage too , \n",
      " Doth not weary ? \n",
      " All the rooks , when \n",
      " In\n",
      "========== Iteration  18000  Loss:  10.2693502779  ==============\n",
      "hyacinth , and cloudward soar . \n",
      " Foraging for sticks and dew , \n",
      " Fancy roam , \n",
      " Where 's the cheek that hath burst ; \n",
      " How to attend her \n",
      " Every thing is the early April lark , \n",
      " Cloys with tasting : \n",
      " Fell her mossy nest ; \n",
      " Let the hen-bird 's wing doth rest ? Where\n",
      "========== Iteration  21000  Loss:  10.171873762  ==============\n",
      "heavy shoon ; \n",
      " Sit thee by the goblet sweet \n",
      " She will bring , \n",
      " Or blazes bright , \n",
      " One would meet the a mistress to chide ; \n",
      " Sit thee there , hark ! \n",
      " Quiet on her prison-string \n",
      " She will bring thee , high-commission 'd : \n",
      " The sear faggot blazes bright , \n",
      " Ere the\n",
      "========== Iteration  24000  Loss:  10.0556414868  ==============\n",
      "celled sleep ; \n",
      " From the eye , however soft , \n",
      " Oh , sweet Fancy ! let her loose ; \n",
      " Quickly break her prison-string \n",
      " From the reaped corn ; \n",
      " Freckled nest-eggs never is shuffled \n",
      " White-plum 'd fruitage too , \n",
      " One would meet in , \n",
      " Blushing through the mesh \n",
      " From dewy sward or thorny\n",
      "========== Iteration  27000  Loss:  10.1202389889  ==============\n",
      "sky . \n",
      " Where 's the self-same shower . \n",
      " And the autumn breezes sing . \n",
      " She has vassals to frown and how to thy mind : —send her ! \n",
      " Freckled nest-eggs thou shalt see \n",
      " From the Spring \n",
      " In a waist and the field-mouse peep \n",
      " With a mind self-overaw 'd at ? \n",
      " When the maid\n",
      "========== Iteration  30000  Loss:  9.87534093014  ==============\n",
      "lillies , \n",
      " Beauties that doth not fade , at one glance , hark ! \n",
      " Slipt its celled sleep ; \n",
      " Every thing is muffled , and alarm \n",
      " Where 's the maid \n",
      " Fades as does its blossoming ; \n",
      " Sweet birds antheming the mesh \n",
      " Of the same moment , alway \n",
      " And such joys as Hebe 's\n",
      "========== Iteration  33000  Loss:  9.82047370216  ==============\n",
      "earth hath burst ; \n",
      " At a winter 's , \n",
      " When the enjoying of the reaped corn ; \n",
      " Then let winged Fancy wander \n",
      " She will bring thee , sweet Fancy ! let her loose ; \n",
      " Acorns ripe down-pattering , \n",
      " Foraging for sticks and straw . \n",
      " Summer 's the first \n",
      " Fell her zone \n",
      " Like\n",
      "========== Iteration  36000  Loss:  9.70734004968  ==============\n",
      "early April lark , \n",
      " Ere the winged Fancy wander \n",
      " She has vassals to frown and how to chide ; \n",
      " 'T is spoilt by use , \n",
      " The sear faggot blazes bright , \n",
      " While the hurry when rain pelteth ; \n",
      " Summer 's wing doth rest \n",
      " O sweet Fancy ! let her sky . \n",
      " Thou shalt\n",
      "========== Iteration  39000  Loss:  9.79364139011  ==============\n",
      "cage-door , \n",
      " Pleasure never is at home . \n",
      " O sweet Fancy ! let her : \n",
      " Like three fit wines in every place ? \n",
      " To banish Even from her ! let her sky . \n",
      " And the Night doth meet the field-mouse peep \n",
      " When the hen-bird 's wing doth rest \n",
      " field-mouse peep \n",
      " is shuffled \n",
      "\n",
      "========== Iteration  42000  Loss:  9.60613807308  ==============\n",
      "will bring , in the rooks , in spite of frost , \n",
      " While the buds and bells of summer weather ; \n",
      " Like three fit wines in a cup , \n",
      " Sit thee there , mysterious stealth : \n",
      " Dulcet-ey 'd as Ceres ' daughter , and down \n",
      " White-plum 'd fruitage too , \n",
      " The sear faggot blazes bright\n",
      "========== Iteration  45000  Loss:  9.55174844018  ==============\n",
      "primrose that doth not fade , \n",
      " Beauties that doth not fade , \n",
      " Blushing through the morn : —send her ! let winged Fancy roam , \n",
      " At a touch sweet Pleasure melteth \n",
      " With a mind : \n",
      " When the maid \n",
      " How to attend her sky . \n",
      " Sapphire queen of the thought still spread beyond her loose\n",
      "========== Iteration  48000  Loss:  9.71005604932  ==============\n",
      "Sapphire shoon ; \n",
      " Let the bee-hive casts its blossoming ; \n",
      " Freckled nest-eggs thou shalt see \n",
      " And as Hebe 's : \n",
      " \n",
      " Too much gaz 'd at ? \n",
      " the mid-May ; \n",
      " She will bring thee , winged Fancy find \n",
      " Meagre from its swarm ; \n",
      " Then the bee-hive casts its blossoming ; \n",
      " At a\n"
     ]
    }
   ],
   "source": [
    "def RunModel():\n",
    "    global ix,losses,iterations,h_state,smooth_loss\n",
    "    run = 0\n",
    "    while True:\n",
    "        letters=[]\n",
    "        if run > epoch:\n",
    "            break\n",
    "        x, y = data.sample(d, num_steps)\n",
    "        feed_dict={inputs[i]: x[i].reshape(1, -1) for i in range(num_steps)}\n",
    "        feed_dict.update({truths[i]: y[i].reshape(1, -1) for i in range(num_steps)})\n",
    "        feed_dict.update({hs[-1]:h_state})\n",
    "        feed_dict.update({keep_prob: 0.8})\n",
    "\n",
    "        _, h_state, loss_out = sess.run((train_step, hs[num_steps-1], cross_entropy), feed_dict=feed_dict)\n",
    "        smooth_loss = smooth_loss * 0.999 + loss_out * 0.001\n",
    "        ix += num_steps\n",
    "        #        letters.append(data[ix])\n",
    "        run += 1\n",
    "        if run % num_runs_between_logging == 0:   \n",
    "            iterations += 1\n",
    "            #        print \"train: \", ''.join(letters)\n",
    "            print \"========== Iteration \", run, \" Loss: \", smooth_loss, \" ==============\"\n",
    "            losses.append(smooth_loss)\n",
    "            hallucinate(sess, random.randint(0,vocab_size-1), 60)\n",
    "RunModel()"
   ]
  },
  {
   "cell_type": "code",
   "execution_count": 98,
   "metadata": {
    "collapsed": false
   },
   "outputs": [
    {
     "name": "stdout",
     "output_type": "stream",
     "text": [
      "waist and \n",
      " Thou shalt see \n",
      " And thou shalt quaff it : What do then ? \n",
      " Fancy , \n",
      " Or the caked snow is ever new ? \n",
      " Open wide the mind 's cage-door , \n",
      " She 'll dart forth , and down delights of May , sweet Fancy ! let her mossy nest ; \n",
      " Freckled nest-eggs thou shalt hear \n",
      " With a dark conspiracy \n",
      " Fell the\n"
     ]
    }
   ],
   "source": [
    "hallucinate(sess, random.randint(0,vocab_size-1), 70)"
   ]
  },
  {
   "cell_type": "code",
   "execution_count": null,
   "metadata": {
    "collapsed": true
   },
   "outputs": [],
   "source": []
  }
 ],
 "metadata": {
  "kernelspec": {
   "display_name": "Python 2",
   "language": "python",
   "name": "python2"
  },
  "language_info": {
   "codemirror_mode": {
    "name": "ipython",
    "version": 2
   },
   "file_extension": ".py",
   "mimetype": "text/x-python",
   "name": "python",
   "nbconvert_exporter": "python",
   "pygments_lexer": "ipython2",
   "version": "2.7.11+"
  }
 },
 "nbformat": 4,
 "nbformat_minor": 0
}
